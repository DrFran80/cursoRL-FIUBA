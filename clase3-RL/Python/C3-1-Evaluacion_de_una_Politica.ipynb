{
  "nbformat": 4,
  "nbformat_minor": 0,
  "metadata": {
    "kernelspec": {
      "display_name": "Python 3",
      "language": "python",
      "name": "python3"
    },
    "language_info": {
      "codemirror_mode": {
        "name": "ipython",
        "version": 3
      },
      "file_extension": ".py",
      "mimetype": "text/x-python",
      "name": "python",
      "nbconvert_exporter": "python",
      "pygments_lexer": "ipython3",
      "version": "3.7.6"
    },
    "colab": {
      "name": "Evaluacion de una Politica.ipynb",
      "provenance": []
    }
  },
  "cells": [
    {
      "cell_type": "code",
      "metadata": {
        "id": "3zKfVMdTD_Rn",
        "colab_type": "code",
        "colab": {
          "base_uri": "https://localhost:8080/",
          "height": 34
        },
        "outputId": "5d37c114-8ace-47ac-d620-f858cf788d6e"
      },
      "source": [
        "# de esta manera podremos tener la carpeta lib (donde se encuentra en ambiente Gridworld)\n",
        "!git clone https://github.com/julianfm7/cursoRL-FIUBA"
      ],
      "execution_count": 1,
      "outputs": [
        {
          "output_type": "stream",
          "text": [
            "fatal: destination path 'cursoRL-FIUBA' already exists and is not an empty directory.\n"
          ],
          "name": "stdout"
        }
      ]
    },
    {
      "cell_type": "code",
      "metadata": {
        "id": "gxDVy62YCZpc",
        "colab_type": "code",
        "colab": {}
      },
      "source": [
        "import numpy as np\n",
        "import sys\n",
        "\n",
        "!cd cursoRL-FIUBA/\n",
        "\n",
        "from lib.envs.gridworld import GridworldEnv"
      ],
      "execution_count": 0,
      "outputs": []
    },
    {
      "cell_type": "code",
      "metadata": {
        "id": "amUc7zdoCZp0",
        "colab_type": "code",
        "colab": {}
      },
      "source": [
        "env = GridworldEnv()"
      ],
      "execution_count": 0,
      "outputs": []
    },
    {
      "cell_type": "markdown",
      "metadata": {
        "id": "3jdQ3cGdCZqS",
        "colab_type": "text"
      },
      "source": [
        "Grid World es el ambiente del libro de Sutton del capítulo 4. Un agente está en una grilla de MxN y el objetivo es llegar al estado terminal esquina superior izquierda o esquina inferior derecha.\n",
        "\n",
        "Por ejemplo, una grilla de 4x4 se ve así:\n",
        "\n",
        "T  o  o  o <br>\n",
        "o  o  o  o <br>\n",
        "o  x  o  o <br>\n",
        "o  o  o  T\n",
        "\n",
        "x es la posición del agente. T son los estados terminales.\n",
        "\n",
        "El agente puede ir hacia arriba(0), la derecha(1), abajo(2), izquierda(3). Si se choca con las paredes se queda estático. Cada movimiento 'cuesta' una unidad de reward."
      ]
    },
    {
      "cell_type": "code",
      "metadata": {
        "id": "F6FB67dVCZqU",
        "colab_type": "code",
        "colab": {}
      },
      "source": [
        "env.reset()\n",
        "env._render()"
      ],
      "execution_count": 0,
      "outputs": []
    },
    {
      "cell_type": "code",
      "metadata": {
        "id": "26rmh9F9CZqi",
        "colab_type": "code",
        "colab": {}
      },
      "source": [
        "env.step(2)\n",
        "env._render()"
      ],
      "execution_count": 0,
      "outputs": []
    },
    {
      "cell_type": "markdown",
      "metadata": {
        "id": "WarbsGGsCZqu",
        "colab_type": "text"
      },
      "source": [
        "El objetivo de este ejercicio es evaluar la política aleatoria (que se mueve en las cuatro direcciones con la misma probabilidad).\n",
        "\n",
        "Recordar las ecuaciones y el algoritmo (de Sutton capítulo 4):\n",
        "\n",
        "<img src=\"https://github.com/julianfm7/cursoRL-FIUBA/blob/master/clase%201/Python/ecuacion%204.5.PNG?raw=1\">\n",
        "<img src=\"https://github.com/julianfm7/cursoRL-FIUBA/blob/master/clase%201/Python/algoritmo%20de%20evaluacion.PNG?raw=1\">\n"
      ]
    },
    {
      "cell_type": "code",
      "metadata": {
        "id": "-n5nJ9sOCZqw",
        "colab_type": "code",
        "colab": {}
      },
      "source": [
        "def policy_eval(policy, env, discount_factor=1.0, theta=0.00001):\n",
        "    \"\"\"\n",
        "    Evaluar una política dado un ambiente y una descripción completa\n",
        "    de la dinámica del ambiente.\n",
        "    \n",
        "    Argumentos:\n",
        "        política: matriz de tamaño [S, A] representando la política.\n",
        "        env: ambiente de OpenAI representadno las probabilidades de transición\n",
        "        del ambiente. \n",
        "        env.P[s][a] es una lista de tuplas (probabilidad, próximo_estado, recompensa, done)\n",
        "        env.nS es el número de estados en el ambiente\n",
        "        env.nA es el número de acciones en el ambiente\n",
        "        theta: para la evaluación de la política una vez que la función de valor cambia menos que\n",
        "        theta para todos los estados\n",
        "        discount_factor: factor de descuento gama.\n",
        "        \n",
        "    Retorna:\n",
        "        Vector de longitud env.nS que representa la función de valor.\n",
        "    \"\"\"\n",
        "    # Empezar con función de valor nula\n",
        "    V = np.zeros(env.nS)\n",
        "    while True:\n",
        "        # TODO: Implementar!\n",
        "        \n",
        "        #TIP: enumerate(lista) permite iterar sobre indice, elemento\n",
        "        \n",
        "        # por cada estado en el env [0,1,...,nS-1]:\n",
        "          # inicializar en 0 la funcion valor para ese estado\n",
        "          # por cada accion posible:\n",
        "            # por cada posible transicion dado ese estado-accion:\n",
        "              # usar la formula para sumar el termino a la funcion valor del estado\n",
        "          \n",
        "          # usar una variable para guardar el cambio maximo de nueva funcion valor vs anterior funcion valor\n",
        "          # guardar funcion valor para el estado\n",
        "            \n",
        "        # si el cambio maximo en el update de la funcion valor para todos los estados es menor a theta, parar\n",
        "        break\n",
        "    return np.array(V)"
      ],
      "execution_count": 0,
      "outputs": []
    },
    {
      "cell_type": "code",
      "metadata": {
        "id": "5-6yVOBGCZq-",
        "colab_type": "code",
        "colab": {}
      },
      "source": [
        "random_policy = np.ones([env.nS, env.nA]) / env.nA\n",
        "v = policy_eval(random_policy, env)"
      ],
      "execution_count": 0,
      "outputs": []
    },
    {
      "cell_type": "code",
      "metadata": {
        "id": "bcL37GOZCZrK",
        "colab_type": "code",
        "colab": {}
      },
      "source": [
        "# Verificar que la evaluación de la política funcionó como esperábamos\n",
        "expected_v = np.array([0, -14, -20, -22, -14, -18, -20, -20, -20, -20, -18, -14, -22, -20, -14, 0])\n",
        "np.testing.assert_array_almost_equal(v, expected_v, decimal=2)"
      ],
      "execution_count": 0,
      "outputs": []
    },
    {
      "cell_type": "code",
      "metadata": {
        "id": "UAy-1B5CCZrU",
        "colab_type": "code",
        "colab": {}
      },
      "source": [
        ""
      ],
      "execution_count": 0,
      "outputs": []
    }
  ]
}